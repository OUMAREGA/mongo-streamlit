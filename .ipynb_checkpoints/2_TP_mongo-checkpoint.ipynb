{
 "cells": [
  {
   "cell_type": "markdown",
   "metadata": {},
   "source": [
    "# EXO"
   ]
  },
  {
   "cell_type": "markdown",
   "metadata": {},
   "source": [
    "### importer les données json dans votre base de données"
   ]
  },
  {
   "cell_type": "code",
   "execution_count": 1,
   "metadata": {},
   "outputs": [],
   "source": [
    "import json\n",
    "import pandas as pd\n",
    "import pymongo\n",
    "from pymongo import MongoClient"
   ]
  },
  {
   "cell_type": "code",
   "execution_count": 2,
   "metadata": {},
   "outputs": [],
   "source": [
    "client = MongoClient('localhost', 27017)\n",
    "db = client['library']\n",
    "collection = db['library_collection']\n",
    "\n",
    "def store(header=None):\n",
    "    \n",
    "    with open('repertoire-bibliotheques.json') as file:\n",
    "        file_data = json.load(file)\n",
    "\n",
    "    if isinstance(file_data, list): \n",
    "        collection.insert_many(file_data)   \n",
    "    else: \n",
    "        collection.insert_one(file_data) \n",
    "\n",
    "    client.close()\n",
    "                           \n",
    "#store()"
   ]
  },
  {
   "cell_type": "markdown",
   "metadata": {},
   "source": [
    "### combien de bibliotheques se trouve a paris"
   ]
  },
  {
   "cell_type": "code",
   "execution_count": 3,
   "metadata": {},
   "outputs": [
    {
     "data": {
      "text/plain": [
       "0"
      ]
     },
     "execution_count": 3,
     "metadata": {},
     "output_type": "execute_result"
    }
   ],
   "source": [
    "paris_libraries = collection.count_documents({\"fields.commune\": \"Paris\"})\n",
    "paris_libraries"
   ]
  },
  {
   "cell_type": "markdown",
   "metadata": {},
   "source": [
    "### Faites un update sur le champs \"commune\" pour le passer en lower case et refaite le compte des bibliotheques a paris"
   ]
  },
  {
   "cell_type": "code",
   "execution_count": 4,
   "metadata": {},
   "outputs": [
    {
     "data": {
      "text/plain": [
       "615"
      ]
     },
     "execution_count": 4,
     "metadata": {},
     "output_type": "execute_result"
    }
   ],
   "source": [
    "collection.update_many(\n",
    "  {},\n",
    "  [{ \"$set\": { \"fields.commune\": { \"$toLower\": \"$fields.commune\" } } }]\n",
    ")\n",
    "paris_libraries = collection.count_documents({\"fields.commune\": \"paris\"})\n",
    "paris_libraries"
   ]
  },
  {
   "cell_type": "markdown",
   "metadata": {},
   "source": [
    "### afficher tout les noms d'établissements situé 95"
   ]
  },
  {
   "cell_type": "code",
   "execution_count": 26,
   "metadata": {},
   "outputs": [
    {
     "data": {
      "text/plain": [
       "[{'_id': \"Val-d'Oise\"},\n",
       " {'_id': 'Bibliothèque Guillaume Apollinaire'},\n",
       " {'_id': 'Université de Cergy-Pontoise'},\n",
       " {'_id': 'Bibliothèque intercommunale du Val-de-France'},\n",
       " {'_id': 'Bibliothèque Albert Camus'},\n",
       " {'_id': 'Bibliothèque du Pays de France'},\n",
       " {'_id': 'Bibliothèque Georges Duhamel'},\n",
       " {'_id': \"Ecole nationale supérieure de l'électronique et de ses applications. Centre de documentation\"},\n",
       " {'_id': 'Bibliothèque municipale'},\n",
       " {'_id': 'Médiathèque George Sand'},\n",
       " {'_id': \"Médiathèque de l'Horloge\"},\n",
       " {'_id': 'Bibliothèque-Médiathèque Antoine de Saint-Exupéry'},\n",
       " {'_id': 'Bibliothèque musicale François Lang'},\n",
       " {'_id': 'Médiathèque municipale François Mauriac'},\n",
       " {'_id': 'Archives municipales'},\n",
       " {'_id': 'Médiathèque Stendhal'},\n",
       " {'_id': 'Institut universitaire de technologie. Bibliothèque'},\n",
       " {'_id': 'Médiathèque Théodore Monod'},\n",
       " {'_id': 'CentraleSupélec. Bibliothèque électronique'},\n",
       " {'_id': \"Médiathèque intercommunale L'Éclipse\"},\n",
       " {'_id': 'Médiathèque municipale Les Temps Modernes'},\n",
       " {'_id': 'Bibliothèque intercommunale Elsa Triolet'},\n",
       " {'_id': \"Musée d'Art et d'Histoire Louis Senlecq. Bibliothèque et archives\"},\n",
       " {'_id': 'Médiathèque intercommunale Georges Pompidou'},\n",
       " {'_id': 'Université de Cergy-Pontoise. Bibliothèque universitaire. Site de Cergy-Hirsch'},\n",
       " {'_id': \"Bibliothèque Centre culturel Art'M\"},\n",
       " {'_id': 'Observatoire de Paris. Bibliothèque'},\n",
       " {'_id': 'Société française de céramique. Documentation'},\n",
       " {'_id': \"Ecole nationale supérieure d'arts de Paris-Cergy. Centre de documentation\"},\n",
       " {'_id': 'Bibliothèque intercommunale Georges-Brassens'},\n",
       " {'_id': 'Médiathèque Maurice Genevoix'},\n",
       " {'_id': 'CentraleSupélec. Bibliothèque'},\n",
       " {'_id': 'Bibliothèque municipale Octave Mirbeau.  Carrières sous Poissy'},\n",
       " {'_id': 'Médiathèque  Elsa-Triolet et Louis-Aragon'},\n",
       " {'_id': 'Bibliothèque municipale Georges Brassens'},\n",
       " {'_id': 'Bibliothèque universitaire Physique et Chimie Recherche'},\n",
       " {'_id': 'Médiathèque municipale'},\n",
       " {'_id': 'Air France. Direction de la communication.  Centre de Documentation'},\n",
       " {'_id': 'Médiathèque Maupassant'},\n",
       " {'_id': 'Médiathèque de Coulanges'},\n",
       " {'_id': 'Médiathèque de Jouy le Moutier'},\n",
       " {'_id': 'Institut Universitaire de Technologie. Bibliothèque'},\n",
       " {'_id': \"Bibliothèque d'Etude et d'Information\"},\n",
       " {'_id': 'Médiathèque municipale Boris Vian'},\n",
       " {'_id': 'Bibliothèque des Dames Gilles'},\n",
       " {'_id': 'Bibliothèque Aimé Césaire'},\n",
       " {'_id': \"Réseau des médiathèques intercommunales du Val Parisis, Val d'Oise\"},\n",
       " {'_id': \"Musée Jean-Jacques Rousseau. Bibliothèque d'études rousseauistes\"},\n",
       " {'_id': \"Bibliothèque départementale du Val d'Oise\"},\n",
       " {'_id': 'Bibliothèque intercommunale  Anna-Langfus. Sarcelles'},\n",
       " {'_id': 'Centre hospitalier René Dubos. Service de documentation'},\n",
       " {'_id': 'Ecole supérieure des sciences économiques et commerciales. Learning Center'},\n",
       " {'_id': \"Musée de la Renaissance - château d'Ecouen\"},\n",
       " {'_id': 'Bibliothèque municipale Aimé Césaire'},\n",
       " {'_id': 'Musée François Mauriac'},\n",
       " {'_id': 'Centre national des soins palliatifs et de la fin de vie'},\n",
       " {'_id': \"Médiathèque de l'Astrolabe\"}]"
      ]
     },
     "execution_count": 26,
     "metadata": {},
     "output_type": "execute_result"
    }
   ],
   "source": [
    "pipeline = [\n",
    "        { \"$match\": { \"fields.codepostal\": { \"$regex\": \"95[0-9]*\" } } }, \n",
    "        { \"$group\": { \"_id\": \"$fields.nometablissement\"}}\n",
    "]\n",
    "\n",
    "libraries_in_95 = collection.aggregate(pipeline)\n",
    "\n",
    "l = list(libraries_in_95)\n",
    "l"
   ]
  },
  {
   "cell_type": "markdown",
   "metadata": {},
   "source": [
    "### requeter la bdd pour creer un dictionnaire comportant le nombre de bibliotheque ouvert par jour de la semaine"
   ]
  },
  {
   "cell_type": "code",
   "execution_count": 35,
   "metadata": {},
   "outputs": [
    {
     "name": "stdout",
     "output_type": "stream",
     "text": [
      "350 271 245 268 661 661\n"
     ]
    },
    {
     "data": {
      "text/plain": [
       "{'monday': 350,\n",
       " 'tuesday': 271,\n",
       " 'wednesday': 245,\n",
       " 'thursday': 268,\n",
       " 'friday': 661,\n",
       " 'saturday': 287,\n",
       " 'sunday': 53}"
      ]
     },
     "execution_count": 35,
     "metadata": {},
     "output_type": "execute_result"
    }
   ],
   "source": [
    "monday    = collection.count_documents( { \"fields.heuresouverture\": { \"$regex\": \"lundi\" } } )\n",
    "tuesday   = collection.count_documents( { \"fields.heuresouverture\": { \"$regex\": \"mardi\" } } )\n",
    "wednesday = collection.count_documents( { \"fields.heuresouverture\": { \"$regex\": \"mercredi\" } } )\n",
    "thursday  = collection.count_documents( { \"fields.heuresouverture\": { \"$regex\": \"jeudi\" } } )\n",
    "friday    = collection.count_documents( { \"fields.heuresouverture\": { \"$regex\": \"vendredi\" } } )\n",
    "saturday  = collection.count_documents( { \"fields.heuresouverture\": { \"$regex\": \"samedi\" } } )\n",
    "sunday    = collection.count_documents( { \"fields.heuresouverture\": { \"$regex\": \"dimanche\" } } )\n",
    "\n",
    "dictionnaire = { \n",
    "    \"monday\": monday, \n",
    "    \"tuesday\": tuesday, \n",
    "    \"wednesday\": wednesday, \n",
    "    \"thursday\": thursday, \n",
    "    \"friday\": friday, \n",
    "    \"saturday\": saturday,\n",
    "    \"sunday\":sunday\n",
    "}\n",
    "\n",
    "dictionnaire"
   ]
  },
  {
   "cell_type": "markdown",
   "metadata": {},
   "source": [
    "### certains jours sont bien plus representé que d'autres pourquoi ?"
   ]
  },
  {
   "cell_type": "code",
   "execution_count": null,
   "metadata": {},
   "outputs": [],
   "source": []
  },
  {
   "cell_type": "markdown",
   "metadata": {},
   "source": [
    "# TP"
   ]
  },
  {
   "cell_type": "markdown",
   "metadata": {},
   "source": [
    "### le TP consiste a :\n",
    "  - acquerir de la donnees se mettant a jour assez régulièrement via une api ou du scrapping\n",
    "    ex: (meteo, bourse, crypto-monaie ect.)\n",
    "  - stocker cette données dans votre base mongodb rajouter la date precise si ce n'est pas dans vos data\n",
    "  - mettre en place un outils permetant de visualiser ses data par rapport a la date\n",
    "    ex:(streamlit, flask ect.)"
   ]
  },
  {
   "cell_type": "code",
   "execution_count": null,
   "metadata": {},
   "outputs": [],
   "source": []
  }
 ],
 "metadata": {
  "kernelspec": {
   "display_name": "Python 3",
   "language": "python",
   "name": "python3"
  },
  "language_info": {
   "codemirror_mode": {
    "name": "ipython",
    "version": 3
   },
   "file_extension": ".py",
   "mimetype": "text/x-python",
   "name": "python",
   "nbconvert_exporter": "python",
   "pygments_lexer": "ipython3",
   "version": "3.8.5"
  },
  "varInspector": {
   "cols": {
    "lenName": 16,
    "lenType": 16,
    "lenVar": 40
   },
   "kernels_config": {
    "python": {
     "delete_cmd_postfix": "",
     "delete_cmd_prefix": "del ",
     "library": "var_list.py",
     "varRefreshCmd": "print(var_dic_list())"
    },
    "r": {
     "delete_cmd_postfix": ") ",
     "delete_cmd_prefix": "rm(",
     "library": "var_list.r",
     "varRefreshCmd": "cat(var_dic_list()) "
    }
   },
   "types_to_exclude": [
    "module",
    "function",
    "builtin_function_or_method",
    "instance",
    "_Feature"
   ],
   "window_display": false
  }
 },
 "nbformat": 4,
 "nbformat_minor": 2
}
