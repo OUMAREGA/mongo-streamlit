{
 "cells": [
  {
   "cell_type": "markdown",
   "metadata": {},
   "source": [
    "# EXO"
   ]
  },
  {
   "cell_type": "markdown",
   "metadata": {},
   "source": [
    "### importer les données json dans votre base de données"
   ]
  },
  {
   "cell_type": "code",
   "execution_count": 1,
   "metadata": {},
   "outputs": [],
   "source": [
    "import json\n",
    "import pandas as pd\n",
    "import pymongo\n",
    "from pymongo import MongoClient"
   ]
  },
  {
   "cell_type": "code",
   "execution_count": 2,
   "metadata": {},
   "outputs": [],
   "source": [
    "client = MongoClient('localhost', 27017)\n",
    "db = client['library']\n",
    "collection = db['library_collection']\n",
    "\n",
    "def store(header=None):\n",
    "    \n",
    "    with open('repertoire-bibliotheques.json') as file:\n",
    "        file_data = json.load(file)\n",
    "\n",
    "    if isinstance(file_data, list): \n",
    "        collection.insert_many(file_data)   \n",
    "    else: \n",
    "        collection.insert_one(file_data) \n",
    "\n",
    "    client.close()\n",
    "                           \n",
    "store()"
   ]
  },
  {
   "cell_type": "markdown",
   "metadata": {},
   "source": [
    "### combien de bibliotheques se trouve a paris"
   ]
  },
  {
   "cell_type": "code",
   "execution_count": 3,
   "metadata": {},
   "outputs": [
    {
     "data": {
      "text/plain": [
       "615"
      ]
     },
     "execution_count": 3,
     "metadata": {},
     "output_type": "execute_result"
    }
   ],
   "source": [
    "paris_libraries = collection.count_documents({\"fields.commune\": \"Paris\"})\n",
    "paris_libraries"
   ]
  },
  {
   "cell_type": "markdown",
   "metadata": {},
   "source": [
    "### Faites un update sur le champs \"commune\" pour le passer en lower case et refaite le compte des bibliotheques a paris"
   ]
  },
  {
   "cell_type": "code",
   "execution_count": 4,
   "metadata": {},
   "outputs": [
    {
     "data": {
      "text/plain": [
       "615"
      ]
     },
     "execution_count": 4,
     "metadata": {},
     "output_type": "execute_result"
    }
   ],
   "source": [
    "collection.update_many(\n",
    "  {},\n",
    "  [{ \"$set\": { \"fields.commune\": { \"$toLower\": \"$fields.commune\" } } }]\n",
    ")\n",
    "paris_libraries = collection.count_documents({\"fields.commune\": \"paris\"})\n",
    "paris_libraries"
   ]
  },
  {
   "cell_type": "markdown",
   "metadata": {},
   "source": [
    "### afficher tout les noms d'établissements situé 95"
   ]
  },
  {
   "cell_type": "code",
   "execution_count": 11,
   "metadata": {},
   "outputs": [
    {
     "data": {
      "text/plain": [
       "[{'_id': {'nom': 'Institut universitaire de technologie. Bibliothèque',\n",
       "   'codepostal': '95100'}},\n",
       " {'_id': {'nom': \"Musée d'Art et d'Histoire Louis Senlecq. Bibliothèque et archives\",\n",
       "   'codepostal': '95290'}},\n",
       " {'_id': {'nom': 'Médiathèque intercommunale Georges Pompidou',\n",
       "   'codepostal': '95320'}},\n",
       " {'_id': {'nom': 'Médiathèque municipale Les Temps Modernes',\n",
       "   'codepostal': '95155'}},\n",
       " {'_id': {'nom': 'Bibliothèque du Pays de France', 'codepostal': '95270'}},\n",
       " {'_id': {'nom': 'Bibliothèque-Médiathèque Antoine de Saint-Exupéry',\n",
       "   'codepostal': '95330'}},\n",
       " {'_id': {'nom': \"Réseau des médiathèques intercommunales du Val Parisis, Val d'Oise\",\n",
       "   'codepostal': '95250'}},\n",
       " {'_id': {'nom': \"Musée de la Renaissance - château d'Ecouen\",\n",
       "   'codepostal': '95440'}},\n",
       " {'_id': {'nom': 'Médiathèque municipale François Mauriac',\n",
       "   'codepostal': '95190'}},\n",
       " {'_id': {'nom': 'Bibliothèque des Dames Gilles', 'codepostal': '95490'}},\n",
       " {'_id': {'nom': 'Bibliothèque intercommunale  Anna-Langfus. Sarcelles',\n",
       "   'codepostal': '95200'}},\n",
       " {'_id': {'nom': \"Val-d'Oise\", 'codepostal': '95300'}},\n",
       " {'_id': {'nom': \"Ecole nationale supérieure de l'électronique et de ses applications. Centre de documentation\",\n",
       "   'codepostal': '95014'}},\n",
       " {'_id': {'nom': 'Bibliothèque Aimé Césaire', 'codepostal': '95400'}},\n",
       " {'_id': {'nom': \"Médiathèque de l'Astrolabe\", 'codepostal': '95000'}},\n",
       " {'_id': {'nom': 'Bibliothèque municipale Aimé Césaire',\n",
       "   'codepostal': '95160'}},\n",
       " {'_id': {'nom': 'Bibliothèque municipale', 'codepostal': '95350'}},\n",
       " {'_id': {'nom': 'Bibliothèque intercommunale du Val-de-France',\n",
       "   'codepostal': '95400'}},\n",
       " {'_id': {'nom': 'Ecole supérieure des sciences économiques et commerciales. Learning Center',\n",
       "   'codepostal': '95021'}},\n",
       " {'_id': {'nom': 'Institut Universitaire de Technologie. Bibliothèque',\n",
       "   'codepostal': '95200'}},\n",
       " {'_id': {'nom': 'Médiathèque Stendhal', 'codepostal': '95310'}},\n",
       " {'_id': {'nom': 'Air France. Direction de la communication.  Centre de Documentation',\n",
       "   'codepostal': '95747'}},\n",
       " {'_id': {'nom': 'Université de Cergy-Pontoise', 'codepostal': '95011'}},\n",
       " {'_id': {'nom': 'Université de Cergy-Pontoise', 'codepostal': '95302'}},\n",
       " {'_id': {'nom': 'Médiathèque George Sand', 'codepostal': '95880'}},\n",
       " {'_id': {'nom': 'Médiathèque Maupassant', 'codepostal': '95875'}},\n",
       " {'_id': {'nom': 'Musée François Mauriac', 'codepostal': '95470'}},\n",
       " {'_id': {'nom': 'Bibliothèque musicale François Lang',\n",
       "   'codepostal': '95270'}},\n",
       " {'_id': {'nom': \"Musée Jean-Jacques Rousseau. Bibliothèque d'études rousseauistes\",\n",
       "   'codepostal': '95160'}},\n",
       " {'_id': {'nom': 'Bibliothèque intercommunale Elsa Triolet',\n",
       "   'codepostal': '95140'}},\n",
       " {'_id': {'nom': 'Médiathèque  Elsa-Triolet et Louis-Aragon',\n",
       "   'codepostal': '95100'}},\n",
       " {'_id': {'nom': \"Val-d'Oise\", 'codepostal': '95011'}},\n",
       " {'_id': {'nom': 'Université de Cergy-Pontoise. Bibliothèque universitaire. Site de Cergy-Hirsch',\n",
       "   'codepostal': '95027'}},\n",
       " {'_id': {'nom': 'Bibliothèque Georges Duhamel', 'codepostal': '95290'}},\n",
       " {'_id': {'nom': 'Médiathèque Maurice Genevoix', 'codepostal': '95600'}},\n",
       " {'_id': {'nom': 'Médiathèque municipale Boris Vian', 'codepostal': '95340'}},\n",
       " {'_id': {'nom': \"Médiathèque intercommunale L'Éclipse\",\n",
       "   'codepostal': '95240'}},\n",
       " {'_id': {'nom': 'Bibliothèque municipale Georges Brassens',\n",
       "   'codepostal': '95471'}},\n",
       " {'_id': {'nom': 'Bibliothèque intercommunale Georges-Brassens',\n",
       "   'codepostal': '95370'}},\n",
       " {'_id': {'nom': 'Médiathèque municipale', 'codepostal': '95110'}},\n",
       " {'_id': {'nom': \"Bibliothèque d'Etude et d'Information\",\n",
       "   'codepostal': '95000'}},\n",
       " {'_id': {'nom': 'Bibliothèque municipale', 'codepostal': '95170'}},\n",
       " {'_id': {'nom': \"Bibliothèque Centre culturel Art'M\", 'codepostal': '95360'}},\n",
       " {'_id': {'nom': \"Ecole nationale supérieure d'arts de Paris-Cergy. Centre de documentation\",\n",
       "   'codepostal': '95000'}},\n",
       " {'_id': {'nom': 'Université de Cergy-Pontoise', 'codepostal': '95031'}},\n",
       " {'_id': {'nom': \"Bibliothèque départementale du Val d'Oise\",\n",
       "   'codepostal': '95300'}},\n",
       " {'_id': {'nom': 'Bibliothèque Guillaume Apollinaire', 'codepostal': '95300'}},\n",
       " {'_id': {'nom': 'Bibliothèque municipale', 'codepostal': '95220'}},\n",
       " {'_id': {'nom': 'Centre hospitalier René Dubos. Service de documentation',\n",
       "   'codepostal': '95303'}},\n",
       " {'_id': {'nom': 'Médiathèque municipale', 'codepostal': '95130'}},\n",
       " {'_id': {'nom': 'Archives municipales', 'codepostal': '95110'}},\n",
       " {'_id': {'nom': 'Bibliothèque Albert Camus', 'codepostal': '95610'}},\n",
       " {'_id': {'nom': 'Médiathèque Théodore Monod', 'codepostal': '95210'}},\n",
       " {'_id': {'nom': \"Médiathèque de l'Horloge\", 'codepostal': '95800'}},\n",
       " {'_id': {'nom': 'Médiathèque de Coulanges', 'codepostal': '95500'}},\n",
       " {'_id': {'nom': 'Bibliothèque municipale', 'codepostal': '95230'}},\n",
       " {'_id': {'nom': 'Université de Cergy-Pontoise', 'codepostal': '95015'}},\n",
       " {'_id': {'nom': 'Médiathèque de Jouy le Moutier', 'codepostal': '95280'}}]"
      ]
     },
     "execution_count": 11,
     "metadata": {},
     "output_type": "execute_result"
    }
   ],
   "source": [
    "pipeline = [\n",
    "        { \"$match\": { \"fields.codepostal\": { \"$regex\": \"95[0-9]{3}$\" } } }, \n",
    "        {\"$group\": {\"_id\": {\"nom\": \"$fields.nometablissement\", \"codepostal\": \"$fields.codepostal\"}}}\n",
    "]\n",
    "\n",
    "libraries_in_95 = collection.aggregate(pipeline)\n",
    "\n",
    "l = list(libraries_in_95)\n",
    "l"
   ]
  },
  {
   "cell_type": "markdown",
   "metadata": {},
   "source": [
    "### requeter la bdd pour creer un dictionnaire comportant le nombre de bibliotheque ouvert par jour de la semaine"
   ]
  },
  {
   "cell_type": "code",
   "execution_count": 6,
   "metadata": {},
   "outputs": [
    {
     "data": {
      "text/plain": [
       "{'monday': 624,\n",
       " 'tuesday': 493,\n",
       " 'wednesday': 442,\n",
       " 'thursday': 394,\n",
       " 'friday': 839,\n",
       " 'saturday': 447,\n",
       " 'sunday': 70}"
      ]
     },
     "execution_count": 6,
     "metadata": {},
     "output_type": "execute_result"
    }
   ],
   "source": [
    "monday    = collection.count_documents( { \"fields.heuresouverture\": { \"$regex\": \"lundi|Lundi\" } } )\n",
    "tuesday   = collection.count_documents( { \"fields.heuresouverture\": { \"$regex\": \"mardi|Mardi\" } } )\n",
    "wednesday = collection.count_documents( { \"fields.heuresouverture\": { \"$regex\": \"mercredi|Mercredi\" } } )\n",
    "thursday  = collection.count_documents( { \"fields.heuresouverture\": { \"$regex\": \"jeudi|Jeudi\" } } )\n",
    "friday    = collection.count_documents( { \"fields.heuresouverture\": { \"$regex\": \"vendredi|Vendredi\" } } )\n",
    "saturday  = collection.count_documents( { \"fields.heuresouverture\": { \"$regex\": \"samedi|Samedi\" } } )\n",
    "sunday    = collection.count_documents( { \"fields.heuresouverture\": { \"$regex\": \"dimanche|Dimanche\" } } )\n",
    "\n",
    "dictionnaire = { \n",
    "    \"monday\": monday, \n",
    "    \"tuesday\": tuesday, \n",
    "    \"wednesday\": wednesday, \n",
    "    \"thursday\": thursday, \n",
    "    \"friday\": friday, \n",
    "    \"saturday\": saturday,\n",
    "    \"sunday\":sunday\n",
    "}\n",
    "\n",
    "dictionnaire"
   ]
  },
  {
   "cell_type": "markdown",
   "metadata": {},
   "source": [
    "### certains jours sont bien plus representé que d'autres pourquoi ?"
   ]
  },
  {
   "cell_type": "code",
   "execution_count": null,
   "metadata": {},
   "outputs": [],
   "source": []
  },
  {
   "cell_type": "markdown",
   "metadata": {},
   "source": [
    "# TP"
   ]
  },
  {
   "cell_type": "markdown",
   "metadata": {},
   "source": [
    "### le TP consiste a :\n",
    "  - acquerir de la donnees se mettant a jour assez régulièrement via une api ou du scrapping\n",
    "    ex: (meteo, bourse, crypto-monaie ect.)\n",
    "  - stocker cette données dans votre base mongodb rajouter la date precise si ce n'est pas dans vos data\n",
    "  - mettre en place un outils permetant de visualiser ses data par rapport a la date\n",
    "    ex:(streamlit, flask ect.)"
   ]
  },
  {
   "cell_type": "code",
   "execution_count": null,
   "metadata": {},
   "outputs": [],
   "source": []
  }
 ],
 "metadata": {
  "kernelspec": {
   "display_name": "Python 3",
   "language": "python",
   "name": "python3"
  },
  "language_info": {
   "codemirror_mode": {
    "name": "ipython",
    "version": 3
   },
   "file_extension": ".py",
   "mimetype": "text/x-python",
   "name": "python",
   "nbconvert_exporter": "python",
   "pygments_lexer": "ipython3",
   "version": "3.8.5"
  },
  "varInspector": {
   "cols": {
    "lenName": 16,
    "lenType": 16,
    "lenVar": 40
   },
   "kernels_config": {
    "python": {
     "delete_cmd_postfix": "",
     "delete_cmd_prefix": "del ",
     "library": "var_list.py",
     "varRefreshCmd": "print(var_dic_list())"
    },
    "r": {
     "delete_cmd_postfix": ") ",
     "delete_cmd_prefix": "rm(",
     "library": "var_list.r",
     "varRefreshCmd": "cat(var_dic_list()) "
    }
   },
   "types_to_exclude": [
    "module",
    "function",
    "builtin_function_or_method",
    "instance",
    "_Feature"
   ],
   "window_display": false
  }
 },
 "nbformat": 4,
 "nbformat_minor": 2
}
