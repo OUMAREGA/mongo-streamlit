{
 "cells": [
  {
   "cell_type": "markdown",
   "metadata": {},
   "source": [
    "# Mongodb"
   ]
  },
  {
   "cell_type": "markdown",
   "metadata": {},
   "source": [
    "Dans ce TP nous allons utiliser la librairie pymongo, pour créer une base de données dans mongodb avec python puis la questionner."
   ]
  },
  {
   "cell_type": "markdown",
   "metadata": {},
   "source": [
    "### Data\n",
    "Voici des données au format csv, elles sont une partie d'un dataset recensant les crimes au Etats-Unis entre 1984 et 2014.\n",
    "\n",
    "https://drive.google.com/file/d/10z7kUXDO4BHffJ6ZfVc42CgIs5558vGd/view?usp=sharing"
   ]
  },
  {
   "cell_type": "markdown",
   "metadata": {},
   "source": [
    "### Création de la BDD"
   ]
  },
  {
   "cell_type": "code",
   "execution_count": 123,
   "metadata": {},
   "outputs": [
    {
     "name": "stdout",
     "output_type": "stream",
     "text": [
      "Requirement already satisfied: pandas in /Library/Frameworks/Python.framework/Versions/3.8/lib/python3.8/site-packages (1.1.4)\n",
      "Requirement already satisfied: python-dateutil>=2.7.3 in /Library/Frameworks/Python.framework/Versions/3.8/lib/python3.8/site-packages (from pandas) (2.8.1)\n",
      "Requirement already satisfied: pytz>=2017.2 in /Library/Frameworks/Python.framework/Versions/3.8/lib/python3.8/site-packages (from pandas) (2020.4)\n",
      "Requirement already satisfied: numpy>=1.15.4 in /Library/Frameworks/Python.framework/Versions/3.8/lib/python3.8/site-packages (from pandas) (1.19.4)\n",
      "Requirement already satisfied: six>=1.5 in /Library/Frameworks/Python.framework/Versions/3.8/lib/python3.8/site-packages (from python-dateutil>=2.7.3->pandas) (1.15.0)\n",
      "Requirement already satisfied: pymongo in /Library/Frameworks/Python.framework/Versions/3.8/lib/python3.8/site-packages (3.11.2)\n"
     ]
    }
   ],
   "source": [
    "!pip install pandas\n",
    "!pip install pymongo"
   ]
  },
  {
   "cell_type": "code",
   "execution_count": 2,
   "metadata": {},
   "outputs": [],
   "source": [
    "import pandas as pd\n",
    "import pymongo\n",
    "from pymongo import MongoClient"
   ]
  },
  {
   "cell_type": "markdown",
   "metadata": {},
   "source": [
    "Créez une fonction python pour passer ce csv dans une base de données mongo, chaque lignes devra être un document."
   ]
  },
  {
   "cell_type": "code",
   "execution_count": 125,
   "metadata": {},
   "outputs": [],
   "source": [
    "client = MongoClient('localhost', 27017)\n",
    "db = client['crime']\n",
    "collection = db['crime_document']\n",
    "\n",
    "def store(header=None):\n",
    "    \n",
    "    df = pd.read_csv('Crime.csv', encoding='latin-1')\n",
    "   \n",
    "    collection.insert_many((df.to_dict('records')))\n",
    "                           \n",
    "store()\n"
   ]
  },
  {
   "cell_type": "markdown",
   "metadata": {},
   "source": [
    "### Requêter la BDD"
   ]
  },
  {
   "cell_type": "markdown",
   "metadata": {},
   "source": [
    "Créez un connecteur pour votre BDD"
   ]
  },
  {
   "cell_type": "code",
   "execution_count": 3,
   "metadata": {},
   "outputs": [],
   "source": [
    "client = MongoClient('localhost', 27017)\n",
    "db = client['crime']\n",
    "collection = db['crime_document']"
   ]
  },
  {
   "cell_type": "markdown",
   "metadata": {},
   "source": [
    "##### Quelles sont les armes utilisées par les criminel?\n",
    "Retournez par rapport à tous les documents les valeurs uniques de la clef weapon."
   ]
  },
  {
   "cell_type": "code",
   "execution_count": 4,
   "metadata": {},
   "outputs": [
    {
     "data": {
      "text/plain": [
       "['Blunt Object',\n",
       " 'Strangulation',\n",
       " 'Unknown',\n",
       " 'Rifle',\n",
       " 'Knife',\n",
       " 'Firearm',\n",
       " 'Shotgun',\n",
       " 'Fall',\n",
       " 'Handgun',\n",
       " 'Drowning',\n",
       " 'Suffocation',\n",
       " 'Explosives',\n",
       " 'Fire',\n",
       " 'Drugs',\n",
       " 'Gun',\n",
       " 'Poison']"
      ]
     },
     "execution_count": 4,
     "metadata": {},
     "output_type": "execute_result"
    }
   ],
   "source": [
    "weapons = collection.distinct('Weapon')\n",
    "weapons"
   ]
  },
  {
   "cell_type": "markdown",
   "metadata": {},
   "source": [
    "##### Combien de crimes ont été commis en 1980?"
   ]
  },
  {
   "cell_type": "code",
   "execution_count": 128,
   "metadata": {},
   "outputs": [
    {
     "data": {
      "text/plain": [
       "23092"
      ]
     },
     "execution_count": 128,
     "metadata": {},
     "output_type": "execute_result"
    }
   ],
   "source": [
    "crimes = collection.count_documents({'Year': 1980})\n",
    "crimes"
   ]
  },
  {
   "cell_type": "markdown",
   "metadata": {},
   "source": [
    "##### Combien de crimes ont été commis par des hommes au Texas?"
   ]
  },
  {
   "cell_type": "code",
   "execution_count": 129,
   "metadata": {},
   "outputs": [
    {
     "data": {
      "text/plain": [
       "6160"
      ]
     },
     "execution_count": 129,
     "metadata": {},
     "output_type": "execute_result"
    }
   ],
   "source": [
    "crimes_perpetrator_male = collection.count_documents({'State': 'Texas', 'Perpetrator Sex': 'Male'})\n",
    "crimes_perpetrator_male"
   ]
  },
  {
   "cell_type": "markdown",
   "metadata": {},
   "source": [
    "##### Combien de crimes ont été commis par chaque sexe en Alaska?"
   ]
  },
  {
   "cell_type": "code",
   "execution_count": 130,
   "metadata": {},
   "outputs": [
    {
     "data": {
      "text/plain": [
       "[{'_id': 'Male', 'count': 226},\n",
       " {'_id': 'Unknown', 'count': 63},\n",
       " {'_id': 'Female', 'count': 28}]"
      ]
     },
     "execution_count": 130,
     "metadata": {},
     "output_type": "execute_result"
    }
   ],
   "source": [
    "\n",
    "pipeline = [\n",
    "        { \"$match\": { \"State\": \"Alaska\" } },\n",
    "        { \"$group\": { \"_id\": \"$Perpetrator Sex\", \"count\": {\"$sum\": 1}}},\n",
    "        {\"$sort\": {\"count\": -1}}\n",
    "]\n",
    "\n",
    "alaska_victims = collection.aggregate(pipeline)\n",
    "list(alaska_victims)"
   ]
  },
  {
   "cell_type": "markdown",
   "metadata": {},
   "source": [
    "##### Combien y a-t'il eu de victimes dans chaque état?"
   ]
  },
  {
   "cell_type": "code",
   "execution_count": null,
   "metadata": {},
   "outputs": [],
   "source": []
  },
  {
   "cell_type": "code",
   "execution_count": 131,
   "metadata": {},
   "outputs": [
    {
     "data": {
      "text/plain": [
       "[{'_id': 'California', 'count': 1678},\n",
       " {'_id': 'New York', 'count': 1182},\n",
       " {'_id': 'Florida', 'count': 888},\n",
       " {'_id': 'Texas', 'count': 810},\n",
       " {'_id': 'New Jersey', 'count': 558},\n",
       " {'_id': 'Michigan', 'count': 546},\n",
       " {'_id': 'Illinois', 'count': 512},\n",
       " {'_id': 'Pennsylvania', 'count': 420},\n",
       " {'_id': 'Ohio', 'count': 354},\n",
       " {'_id': 'Maryland', 'count': 256},\n",
       " {'_id': 'Massachusetts', 'count': 256},\n",
       " {'_id': 'Missouri', 'count': 250},\n",
       " {'_id': 'Louisiana', 'count': 230},\n",
       " {'_id': 'Washington', 'count': 216},\n",
       " {'_id': 'Connecticut', 'count': 198},\n",
       " {'_id': 'Alaska', 'count': 188},\n",
       " {'_id': 'Indiana', 'count': 186},\n",
       " {'_id': 'Tennessee', 'count': 154},\n",
       " {'_id': 'Virginia', 'count': 148},\n",
       " {'_id': 'Nevada', 'count': 132},\n",
       " {'_id': 'Arizona', 'count': 126},\n",
       " {'_id': 'Kentucky', 'count': 122},\n",
       " {'_id': 'Kansas', 'count': 120},\n",
       " {'_id': 'North Carolina', 'count': 116},\n",
       " {'_id': 'Alabama', 'count': 114},\n",
       " {'_id': 'Arkansas', 'count': 114},\n",
       " {'_id': 'Colorado', 'count': 112},\n",
       " {'_id': 'Oklahoma', 'count': 104},\n",
       " {'_id': 'Iowa', 'count': 100},\n",
       " {'_id': 'Minnesota', 'count': 98},\n",
       " {'_id': 'Oregon', 'count': 96},\n",
       " {'_id': 'Wisconsin', 'count': 96},\n",
       " {'_id': 'Georgia', 'count': 88},\n",
       " {'_id': 'Mississippi', 'count': 78},\n",
       " {'_id': 'South Carolina', 'count': 54},\n",
       " {'_id': 'West Virginia', 'count': 52},\n",
       " {'_id': 'Nebraska', 'count': 42},\n",
       " {'_id': 'Maine', 'count': 36},\n",
       " {'_id': 'New Mexico', 'count': 30},\n",
       " {'_id': 'North Dakota', 'count': 30},\n",
       " {'_id': 'Idaho', 'count': 28},\n",
       " {'_id': 'Hawaii', 'count': 26},\n",
       " {'_id': 'Montana', 'count': 22},\n",
       " {'_id': 'Wyoming', 'count': 20},\n",
       " {'_id': 'Utah', 'count': 18},\n",
       " {'_id': 'Delaware', 'count': 14},\n",
       " {'_id': 'Rhodes Island', 'count': 6},\n",
       " {'_id': 'Vermont', 'count': 6},\n",
       " {'_id': 'South Dakota', 'count': 6},\n",
       " {'_id': 'New Hampshire', 'count': 4},\n",
       " {'_id': 'District of Columbia', 'count': 0}]"
      ]
     },
     "execution_count": 131,
     "metadata": {},
     "output_type": "execute_result"
    }
   ],
   "source": [
    "pipeline = [\n",
    "        { \"$group\": { \"_id\": \"$State\", \"count\": {\"$sum\": \"$Victim Count\"}}},\n",
    "        {\"$sort\": {\"count\": -1}}\n",
    "]\n",
    "\n",
    "victims_per_state = collection.aggregate(pipeline)\n",
    "list(victims_per_state)"
   ]
  },
  {
   "cell_type": "code",
   "execution_count": 132,
   "metadata": {},
   "outputs": [],
   "source": [
    "##### Combien y a-t'il eu de victimes femme dans chaque état"
   ]
  },
  {
   "cell_type": "code",
   "execution_count": 16,
   "metadata": {},
   "outputs": [
    {
     "data": {
      "text/plain": [
       "[{'_id': 'California', 'count': 3211},\n",
       " {'_id': 'Texas', 'count': 1876},\n",
       " {'_id': 'New York', 'count': 1756},\n",
       " {'_id': 'Florida', 'count': 1661},\n",
       " {'_id': 'Michigan', 'count': 1089},\n",
       " {'_id': 'Illinois', 'count': 1008},\n",
       " {'_id': 'Ohio', 'count': 883},\n",
       " {'_id': 'Pennsylvania', 'count': 870},\n",
       " {'_id': 'North Carolina', 'count': 674},\n",
       " {'_id': 'Georgia', 'count': 653},\n",
       " {'_id': 'New Jersey', 'count': 634},\n",
       " {'_id': 'Louisiana', 'count': 616},\n",
       " {'_id': 'Maryland', 'count': 509},\n",
       " {'_id': 'Alabama', 'count': 504},\n",
       " {'_id': 'Missouri', 'count': 481},\n",
       " {'_id': 'Virginia', 'count': 476},\n",
       " {'_id': 'South Carolina', 'count': 422},\n",
       " {'_id': 'Tennessee', 'count': 410},\n",
       " {'_id': 'Indiana', 'count': 403},\n",
       " {'_id': 'Oklahoma', 'count': 403},\n",
       " {'_id': 'Kentucky', 'count': 333},\n",
       " {'_id': 'Arizona', 'count': 323},\n",
       " {'_id': 'Colorado', 'count': 304},\n",
       " {'_id': 'Washington', 'count': 275},\n",
       " {'_id': 'Mississippi', 'count': 263},\n",
       " {'_id': 'Massachusetts', 'count': 262},\n",
       " {'_id': 'Arkansas', 'count': 252},\n",
       " {'_id': 'Oregon', 'count': 226},\n",
       " {'_id': 'Kansas', 'count': 221},\n",
       " {'_id': 'Wisconsin', 'count': 210},\n",
       " {'_id': 'Nevada', 'count': 198},\n",
       " {'_id': 'Connecticut', 'count': 195},\n",
       " {'_id': 'District of Columbia', 'count': 176},\n",
       " {'_id': 'Minnesota', 'count': 167},\n",
       " {'_id': 'West Virginia', 'count': 115},\n",
       " {'_id': 'Iowa', 'count': 111},\n",
       " {'_id': 'Alaska', 'count': 98},\n",
       " {'_id': 'Nebraska', 'count': 84},\n",
       " {'_id': 'New Mexico', 'count': 75},\n",
       " {'_id': 'Hawaii', 'count': 74},\n",
       " {'_id': 'Utah', 'count': 67},\n",
       " {'_id': 'Maine', 'count': 67},\n",
       " {'_id': 'Rhodes Island', 'count': 61},\n",
       " {'_id': 'Delaware', 'count': 51},\n",
       " {'_id': 'Idaho', 'count': 50},\n",
       " {'_id': 'Wyoming', 'count': 40},\n",
       " {'_id': 'New Hampshire', 'count': 39},\n",
       " {'_id': 'Montana', 'count': 34},\n",
       " {'_id': 'North Dakota', 'count': 25},\n",
       " {'_id': 'South Dakota', 'count': 16},\n",
       " {'_id': 'Vermont', 'count': 5}]"
      ]
     },
     "execution_count": 16,
     "metadata": {},
     "output_type": "execute_result"
    }
   ],
   "source": [
    "pipeline = [\n",
    "        { \"$match\": { \"Victim Sex\": \"Female\" } },\n",
    "        { \"$group\": { \"_id\": \"$State\", \"count\": {\"$sum\": \"$Victim Count\"}}},\n",
    "        {\"$sort\": {\"count\": -1}}\n",
    "]\n",
    "\n",
    "female_victims_per_state = collection.aggregate(pipeline)\n",
    "list(female_victims_per_state)"
   ]
  },
  {
   "cell_type": "markdown",
   "metadata": {},
   "source": [
    "### Bonus"
   ]
  },
  {
   "cell_type": "markdown",
   "metadata": {},
   "source": [
    "Installez la librairie streamlit\n",
    "Créez un dashboard qui donne la posibilité de séléctionner une année pour retourner un barplot du nombre de crime commis avec chaque arme."
   ]
  },
  {
   "cell_type": "code",
   "execution_count": 134,
   "metadata": {},
   "outputs": [
    {
     "data": {
      "text/plain": [
       "<streamlit.delta_generator.DeltaGenerator at 0x117dda070>"
      ]
     },
     "execution_count": 134,
     "metadata": {},
     "output_type": "execute_result"
    }
   ],
   "source": [
    "import pandas as pd\n",
    "import streamlit as st\n",
    "from pymongo import MongoClient\n",
    "\n",
    "client = MongoClient('localhost', 27017)\n",
    "db = client.crime\n",
    "collection = db.crime_document\n",
    "\n",
    "years = list(range(1980, 1985))\n",
    "\n",
    "selected_date = st.selectbox(\"Year\", years)\n",
    "\n",
    "pipeline = [\n",
    "        { \"$match\": { \"Year\": selected_date }},\n",
    "        { \"$group\": { \"_id\": \"$Weapon\" , \"count\": {\"$sum\": 1}}},\n",
    "        { \"$sort\": {\"count\": -1}}\n",
    "]\n",
    "\n",
    "result = collection.aggregate(pipeline)\n",
    "\n",
    "data = pd.DataFrame(result).set_index('_id')\n",
    "\n",
    "st.bar_chart(data)"
   ]
  },
  {
   "cell_type": "code",
   "execution_count": null,
   "metadata": {},
   "outputs": [],
   "source": [
    "####Combien de victimes avaient l'âge de 18 ans?"
   ]
  },
  {
   "cell_type": "code",
   "execution_count": 5,
   "metadata": {},
   "outputs": [
    {
     "data": {
      "text/plain": [
       "2172"
      ]
     },
     "execution_count": 5,
     "metadata": {},
     "output_type": "execute_result"
    }
   ],
   "source": [
    "crimes = collection.count_documents({'Victim Age': 18})\n",
    "crimes"
   ]
  },
  {
   "cell_type": "code",
   "execution_count": null,
   "metadata": {},
   "outputs": [],
   "source": [
    "###Avec quel âge nous avons le plus de victimes?"
   ]
  },
  {
   "cell_type": "code",
   "execution_count": 15,
   "metadata": {},
   "outputs": [
    {
     "data": {
      "text/plain": [
       "[{'_id': 99, 'count': 160578},\n",
       " {'_id': 30, 'count': 98820},\n",
       " {'_id': 25, 'count': 98550},\n",
       " {'_id': 998, 'count': 93812},\n",
       " {'_id': 29, 'count': 90074},\n",
       " {'_id': 27, 'count': 89100},\n",
       " {'_id': 26, 'count': 88322},\n",
       " {'_id': 32, 'count': 86752},\n",
       " {'_id': 28, 'count': 85792},\n",
       " {'_id': 24, 'count': 83304},\n",
       " {'_id': 31, 'count': 82584},\n",
       " {'_id': 23, 'count': 82363},\n",
       " {'_id': 35, 'count': 79625},\n",
       " {'_id': 33, 'count': 78441},\n",
       " {'_id': 34, 'count': 77860},\n",
       " {'_id': 22, 'count': 75196},\n",
       " {'_id': 40, 'count': 70800},\n",
       " {'_id': 36, 'count': 68616},\n",
       " {'_id': 37, 'count': 68561},\n",
       " {'_id': 21, 'count': 67053},\n",
       " {'_id': 39, 'count': 64116},\n",
       " {'_id': 38, 'count': 63650},\n",
       " {'_id': 20, 'count': 63520},\n",
       " {'_id': 42, 'count': 61656},\n",
       " {'_id': 50, 'count': 57800},\n",
       " {'_id': 41, 'count': 56539},\n",
       " {'_id': 45, 'count': 53775},\n",
       " {'_id': 43, 'count': 52331},\n",
       " {'_id': 52, 'count': 51688},\n",
       " {'_id': 19, 'count': 50825},\n",
       " {'_id': 47, 'count': 49397},\n",
       " {'_id': 44, 'count': 49060},\n",
       " {'_id': 46, 'count': 48622},\n",
       " {'_id': 55, 'count': 46585},\n",
       " {'_id': 53, 'count': 46375},\n",
       " {'_id': 48, 'count': 46032},\n",
       " {'_id': 56, 'count': 45192},\n",
       " {'_id': 54, 'count': 43902},\n",
       " {'_id': 51, 'count': 43656},\n",
       " {'_id': 49, 'count': 43414},\n",
       " {'_id': 57, 'count': 40869},\n",
       " {'_id': 60, 'count': 40500},\n",
       " {'_id': 62, 'count': 39308},\n",
       " {'_id': 18, 'count': 39096},\n",
       " {'_id': 58, 'count': 36714},\n",
       " {'_id': 59, 'count': 35282},\n",
       " {'_id': 63, 'count': 32949},\n",
       " {'_id': 61, 'count': 32452},\n",
       " {'_id': 65, 'count': 31395},\n",
       " {'_id': 17, 'count': 28645},\n",
       " {'_id': 67, 'count': 27336},\n",
       " {'_id': 64, 'count': 26176},\n",
       " {'_id': 68, 'count': 25432},\n",
       " {'_id': 70, 'count': 25270},\n",
       " {'_id': 72, 'count': 24624},\n",
       " {'_id': 71, 'count': 22791},\n",
       " {'_id': 66, 'count': 21186},\n",
       " {'_id': 69, 'count': 21183},\n",
       " {'_id': 75, 'count': 18825},\n",
       " {'_id': 73, 'count': 18396},\n",
       " {'_id': 76, 'count': 18316},\n",
       " {'_id': 16, 'count': 17248},\n",
       " {'_id': 74, 'count': 17168},\n",
       " {'_id': 79, 'count': 16037},\n",
       " {'_id': 77, 'count': 15169},\n",
       " {'_id': 78, 'count': 14040},\n",
       " {'_id': 81, 'count': 13851},\n",
       " {'_id': 80, 'count': 12880},\n",
       " {'_id': 82, 'count': 12710},\n",
       " {'_id': 15, 'count': 10350},\n",
       " {'_id': 84, 'count': 10080},\n",
       " {'_id': 83, 'count': 9794},\n",
       " {'_id': 86, 'count': 9546},\n",
       " {'_id': 85, 'count': 8075},\n",
       " {'_id': 14, 'count': 5642},\n",
       " {'_id': 87, 'count': 5394},\n",
       " {'_id': 88, 'count': 4664},\n",
       " {'_id': 90, 'count': 4410},\n",
       " {'_id': 89, 'count': 4183},\n",
       " {'_id': 13, 'count': 3523},\n",
       " {'_id': 91, 'count': 2730},\n",
       " {'_id': 92, 'count': 2576},\n",
       " {'_id': 93, 'count': 2325},\n",
       " {'_id': 12, 'count': 2316},\n",
       " {'_id': 11, 'count': 1672},\n",
       " {'_id': 10, 'count': 1600},\n",
       " {'_id': 94, 'count': 1598},\n",
       " {'_id': 9, 'count': 1206},\n",
       " {'_id': 7, 'count': 1162},\n",
       " {'_id': 2, 'count': 1112},\n",
       " {'_id': 4, 'count': 1040},\n",
       " {'_id': 5, 'count': 1020},\n",
       " {'_id': 8, 'count': 1008},\n",
       " {'_id': 3, 'count': 951},\n",
       " {'_id': 6, 'count': 906},\n",
       " {'_id': 95, 'count': 855},\n",
       " {'_id': 1, 'count': 587},\n",
       " {'_id': 97, 'count': 485},\n",
       " {'_id': 98, 'count': 392},\n",
       " {'_id': 96, 'count': 384},\n",
       " {'_id': 0, 'count': 0}]"
      ]
     },
     "execution_count": 15,
     "metadata": {},
     "output_type": "execute_result"
    }
   ],
   "source": [
    "pipeline = [\n",
    "        { \"$group\": { \"_id\": \"$Victim Age\", \"count\": {\"$sum\": 1}}},\n",
    "        {\"$sort\": {\"count\": -1}}\n",
    "]\n",
    "\n",
    "victims = collection.aggregate(pipeline)\n",
    "list(victims)"
   ]
  },
  {
   "cell_type": "code",
   "execution_count": null,
   "metadata": {},
   "outputs": [],
   "source": [
    "###Avec quel age nous avons le plus de victimes par noyade?"
   ]
  },
  {
   "cell_type": "code",
   "execution_count": 10,
   "metadata": {},
   "outputs": [
    {
     "data": {
      "text/plain": [
       "[{'_id': 0, 'count': 37},\n",
       " {'_id': 2, 'count': 14},\n",
       " {'_id': 1, 'count': 12},\n",
       " {'_id': 3, 'count': 12},\n",
       " {'_id': 5, 'count': 10},\n",
       " {'_id': 24, 'count': 9},\n",
       " {'_id': 17, 'count': 7},\n",
       " {'_id': 99, 'count': 7},\n",
       " {'_id': 30, 'count': 7},\n",
       " {'_id': 36, 'count': 7},\n",
       " {'_id': 19, 'count': 7},\n",
       " {'_id': 20, 'count': 6},\n",
       " {'_id': 4, 'count': 6},\n",
       " {'_id': 22, 'count': 6},\n",
       " {'_id': 16, 'count': 6},\n",
       " {'_id': 33, 'count': 5},\n",
       " {'_id': 27, 'count': 5},\n",
       " {'_id': 7, 'count': 5},\n",
       " {'_id': 26, 'count': 4},\n",
       " {'_id': 38, 'count': 4},\n",
       " {'_id': 9, 'count': 4},\n",
       " {'_id': 31, 'count': 4},\n",
       " {'_id': 35, 'count': 4},\n",
       " {'_id': 37, 'count': 4},\n",
       " {'_id': 6, 'count': 3},\n",
       " {'_id': 29, 'count': 3},\n",
       " {'_id': 46, 'count': 3},\n",
       " {'_id': 58, 'count': 3},\n",
       " {'_id': 11, 'count': 3},\n",
       " {'_id': 18, 'count': 3},\n",
       " {'_id': 41, 'count': 3},\n",
       " {'_id': 28, 'count': 3},\n",
       " {'_id': 25, 'count': 3},\n",
       " {'_id': 39, 'count': 2},\n",
       " {'_id': 23, 'count': 2},\n",
       " {'_id': 32, 'count': 2},\n",
       " {'_id': 44, 'count': 2},\n",
       " {'_id': 34, 'count': 2},\n",
       " {'_id': 40, 'count': 2},\n",
       " {'_id': 54, 'count': 2},\n",
       " {'_id': 8, 'count': 2},\n",
       " {'_id': 14, 'count': 2},\n",
       " {'_id': 13, 'count': 2},\n",
       " {'_id': 43, 'count': 2},\n",
       " {'_id': 83, 'count': 1},\n",
       " {'_id': 76, 'count': 1},\n",
       " {'_id': 57, 'count': 1},\n",
       " {'_id': 75, 'count': 1},\n",
       " {'_id': 45, 'count': 1},\n",
       " {'_id': 63, 'count': 1},\n",
       " {'_id': 59, 'count': 1},\n",
       " {'_id': 79, 'count': 1},\n",
       " {'_id': 21, 'count': 1},\n",
       " {'_id': 90, 'count': 1},\n",
       " {'_id': 66, 'count': 1},\n",
       " {'_id': 12, 'count': 1},\n",
       " {'_id': 42, 'count': 1},\n",
       " {'_id': 48, 'count': 1},\n",
       " {'_id': 47, 'count': 1},\n",
       " {'_id': 67, 'count': 1},\n",
       " {'_id': 62, 'count': 1},\n",
       " {'_id': 56, 'count': 1},\n",
       " {'_id': 10, 'count': 1},\n",
       " {'_id': 50, 'count': 1},\n",
       " {'_id': 72, 'count': 1},\n",
       " {'_id': 49, 'count': 1},\n",
       " {'_id': 61, 'count': 1},\n",
       " {'_id': 55, 'count': 1}]"
      ]
     },
     "execution_count": 10,
     "metadata": {},
     "output_type": "execute_result"
    }
   ],
   "source": [
    "pipeline = [\n",
    "        { \"$match\": { \"Weapon\": \"Drowning\" }},\n",
    "        { \"$group\": { \"_id\": \"$Victim Age\", \"count\": {\"$sum\": 1}}},\n",
    "        {\"$sort\": {\"count\": -1}}\n",
    "]\n",
    "\n",
    "victims_drowing = collection.aggregate(pipeline)\n",
    "list(victims_drowing)"
   ]
  },
  {
   "cell_type": "code",
   "execution_count": null,
   "metadata": {},
   "outputs": [],
   "source": [
    "### Dans quel état nous avons eu le plus de victimes par chute?"
   ]
  },
  {
   "cell_type": "code",
   "execution_count": 13,
   "metadata": {},
   "outputs": [
    {
     "data": {
      "text/plain": [
       "[{'_id': 'New York', 'count': 13},\n",
       " {'_id': 'Illinois', 'count': 8},\n",
       " {'_id': 'District of Columbia', 'count': 3},\n",
       " {'_id': 'North Carolina', 'count': 3},\n",
       " {'_id': 'Connecticut', 'count': 3},\n",
       " {'_id': 'Michigan', 'count': 3},\n",
       " {'_id': 'Oregon', 'count': 2},\n",
       " {'_id': 'New Jersey', 'count': 1},\n",
       " {'_id': 'Missouri', 'count': 1},\n",
       " {'_id': 'Alaska', 'count': 1},\n",
       " {'_id': 'Delaware', 'count': 1},\n",
       " {'_id': 'South Carolina', 'count': 1},\n",
       " {'_id': 'Virginia', 'count': 1},\n",
       " {'_id': 'Hawaii', 'count': 1},\n",
       " {'_id': 'Minnesota', 'count': 1},\n",
       " {'_id': 'Oklahoma', 'count': 1},\n",
       " {'_id': 'Massachusetts', 'count': 1},\n",
       " {'_id': 'Rhodes Island', 'count': 1},\n",
       " {'_id': 'Ohio', 'count': 1},\n",
       " {'_id': 'Florida', 'count': 1},\n",
       " {'_id': 'Indiana', 'count': 1},\n",
       " {'_id': 'Colorado', 'count': 1}]"
      ]
     },
     "execution_count": 13,
     "metadata": {},
     "output_type": "execute_result"
    }
   ],
   "source": [
    "pipeline = [\n",
    "        { \"$match\": { \"Weapon\": \"Fall\" }},\n",
    "        { \"$group\": { \"_id\": \"$State\", \"count\": {\"$sum\": 1}}},\n",
    "        {\"$sort\": {\"count\": -1}}\n",
    "]\n",
    "\n",
    "victims_state = collection.aggregate(pipeline)\n",
    "list(victims_state)"
   ]
  },
  {
   "cell_type": "code",
   "execution_count": null,
   "metadata": {},
   "outputs": [],
   "source": [
    "### Quelle est la requête pour retrouver la liste avec les moyennes d'âge de chaque etat?"
   ]
  },
  {
   "cell_type": "code",
   "execution_count": 14,
   "metadata": {},
   "outputs": [
    {
     "data": {
      "text/plain": [
       "[{'_id': 'Indiana', 'avgAge': 36.012106537530265},\n",
       " {'_id': 'South Dakota', 'avgAge': 32.67307692307692},\n",
       " {'_id': 'Virginia', 'avgAge': 36.07271702367531},\n",
       " {'_id': 'Oklahoma', 'avgAge': 34.18322580645161},\n",
       " {'_id': 'Minnesota', 'avgAge': 33.07692307692308},\n",
       " {'_id': 'Massachusetts', 'avgAge': 34.254826254826256},\n",
       " {'_id': 'Georgia', 'avgAge': 39.356767676767674},\n",
       " {'_id': 'California', 'avgAge': 33.903487375568595},\n",
       " {'_id': 'Iowa', 'avgAge': 33.633633633633636},\n",
       " {'_id': 'Idaho', 'avgAge': 31.930635838150287},\n",
       " {'_id': 'New Mexico', 'avgAge': 33.70238095238095},\n",
       " {'_id': 'South Carolina', 'avgAge': 37.00464306442252},\n",
       " {'_id': 'Texas', 'avgAge': 36.15717299578059},\n",
       " {'_id': 'West Virginia', 'avgAge': 41.59782608695652},\n",
       " {'_id': 'Alaska', 'avgAge': 31.16403785488959},\n",
       " {'_id': 'Kentucky', 'avgAge': 37.589125946317964},\n",
       " {'_id': 'Wyoming', 'avgAge': 34.79032258064516},\n",
       " {'_id': 'District of Columbia', 'avgAge': 36.06639427987743},\n",
       " {'_id': 'Washington', 'avgAge': 35.636792452830186},\n",
       " {'_id': 'Michigan', 'avgAge': 34.341431385423505},\n",
       " {'_id': 'Maine', 'avgAge': 32.36734693877551},\n",
       " {'_id': 'Florida', 'avgAge': 44.044012854547994},\n",
       " {'_id': 'North Dakota', 'avgAge': 30.362068965517242},\n",
       " {'_id': 'Rhodes Island', 'avgAge': 33.34594594594594},\n",
       " {'_id': 'Illinois', 'avgAge': 32.5119189511323},\n",
       " {'_id': 'Hawaii', 'avgAge': 33.696850393700785},\n",
       " {'_id': 'Arizona', 'avgAge': 37.3816},\n",
       " {'_id': 'Arkansas', 'avgAge': 37.414},\n",
       " {'_id': 'North Carolina', 'avgAge': 37.30531295487627},\n",
       " {'_id': 'Connecticut', 'avgAge': 33.065006915629326},\n",
       " {'_id': 'Missouri', 'avgAge': 34.5194283162126},\n",
       " {'_id': 'Delaware', 'avgAge': 32.98837209302326},\n",
       " {'_id': 'New Hampshire', 'avgAge': 32.0},\n",
       " {'_id': 'New Jersey', 'avgAge': 38.02694859038142},\n",
       " {'_id': 'Alabama', 'avgAge': 36.98180970149254},\n",
       " {'_id': 'Mississippi', 'avgAge': 36.960339943342774},\n",
       " {'_id': 'Nevada', 'avgAge': 37.19908814589666},\n",
       " {'_id': 'New York', 'avgAge': 35.919975811328364},\n",
       " {'_id': 'Louisiana', 'avgAge': 35.91919191919192},\n",
       " {'_id': 'Oregon', 'avgAge': 34.051359516616316},\n",
       " {'_id': 'Wisconsin', 'avgAge': 34.25},\n",
       " {'_id': 'Pennsylvania', 'avgAge': 34.23527721918989},\n",
       " {'_id': 'Maryland', 'avgAge': 32.88364329995231},\n",
       " {'_id': 'Colorado', 'avgAge': 34.170399221032135},\n",
       " {'_id': 'Kansas', 'avgAge': 34.16526610644258},\n",
       " {'_id': 'Ohio', 'avgAge': 35.07463540177295},\n",
       " {'_id': 'Montana', 'avgAge': 34.97222222222222},\n",
       " {'_id': 'Tennessee', 'avgAge': 37.60182956186808},\n",
       " {'_id': 'Nebraska', 'avgAge': 31.56451612903226},\n",
       " {'_id': 'Vermont', 'avgAge': 36.48275862068966},\n",
       " {'_id': 'Utah', 'avgAge': 27.610091743119266}]"
      ]
     },
     "execution_count": 14,
     "metadata": {},
     "output_type": "execute_result"
    }
   ],
   "source": [
    "pipeline = [\n",
    "        { \"$group\": { \"_id\": \"$State\", \"avgAge\": { \"$avg\": \"$Victim Age\" }}},\n",
    "        {\"$sort\": {\"count\": -1}}\n",
    "]\n",
    "victims_avg_age = collection.aggregate(pipeline)\n",
    "list(victims_avg_age)"
   ]
  },
  {
   "cell_type": "code",
   "execution_count": null,
   "metadata": {},
   "outputs": [],
   "source": []
  }
 ],
 "metadata": {
  "kernelspec": {
   "display_name": "Python 3",
   "language": "python",
   "name": "python3"
  },
  "language_info": {
   "codemirror_mode": {
    "name": "ipython",
    "version": 3
   },
   "file_extension": ".py",
   "mimetype": "text/x-python",
   "name": "python",
   "nbconvert_exporter": "python",
   "pygments_lexer": "ipython3",
   "version": "3.8.5"
  },
  "varInspector": {
   "cols": {
    "lenName": 16,
    "lenType": 16,
    "lenVar": 40
   },
   "kernels_config": {
    "python": {
     "delete_cmd_postfix": "",
     "delete_cmd_prefix": "del ",
     "library": "var_list.py",
     "varRefreshCmd": "print(var_dic_list())"
    },
    "r": {
     "delete_cmd_postfix": ") ",
     "delete_cmd_prefix": "rm(",
     "library": "var_list.r",
     "varRefreshCmd": "cat(var_dic_list()) "
    }
   },
   "types_to_exclude": [
    "module",
    "function",
    "builtin_function_or_method",
    "instance",
    "_Feature"
   ],
   "window_display": false
  }
 },
 "nbformat": 4,
 "nbformat_minor": 2
}
